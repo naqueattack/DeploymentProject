{
 "cells": [
  {
   "cell_type": "code",
   "execution_count": 2,
   "id": "17aad853-80f3-4faa-bb08-377415409910",
   "metadata": {},
   "outputs": [],
   "source": [
    "import requests"
   ]
  },
  {
   "cell_type": "code",
   "execution_count": 4,
   "id": "894257dd-f251-4094-a1c8-17726c08c445",
   "metadata": {},
   "outputs": [
    {
     "name": "stdout",
     "output_type": "stream",
     "text": [
      "[0]\n"
     ]
    }
   ],
   "source": [
    "json_data = {'Gender' : 'Male',\n",
    "             'Married' : 'No',\n",
    "             'Dependents' : '0',\n",
    "             'Education' : 'Not Graduate',\n",
    "             'Self_Employed' : 'No',\n",
    "             'ApplicantIncome': 3691,\n",
    "             'CoapplicantIncome' : 0.0,\n",
    "             'LoanAmount' : 110.0,\n",
    "             'Loan_Amount_Term' : 360.0,\n",
    "             'Credit_History' : 1.0,\n",
    "             'Property_Area' : 'Rural'}\n",
    "\n",
    "URL = \"http://ec2-35-175-219-138.compute-1.amazonaws.com:5000/prediction\"\n",
    "# sending get request and saving the response as response object \n",
    "r = requests.post(url = URL, json = json_data) \n",
    "print(r.json())"
   ]
  }
 ],
 "metadata": {
  "kernelspec": {
   "display_name": "LHL_env",
   "language": "python",
   "name": "lhl_env"
  },
  "language_info": {
   "codemirror_mode": {
    "name": "ipython",
    "version": 3
   },
   "file_extension": ".py",
   "mimetype": "text/x-python",
   "name": "python",
   "nbconvert_exporter": "python",
   "pygments_lexer": "ipython3",
   "version": "3.10.9"
  }
 },
 "nbformat": 4,
 "nbformat_minor": 5
}
